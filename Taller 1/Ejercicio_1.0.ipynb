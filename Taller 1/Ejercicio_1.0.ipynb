{
 "cells": [
  {
   "cell_type": "markdown",
   "metadata": {},
   "source": [
    "<img src=\"https://raw.githubusercontent.com/paular143/images_notebooks/master/logo-sin-nombre.png\" alt=\"Universidad de Los Andes\" style=\"width: 90px;\" align=\"left\" frameborder=\"300\"/>\n",
    "\n",
    "**UNIVERSIDAD DE LOS ANDES** <br>\n",
    "**FACULTAD DE ECONOMÍA** <br>\n",
    "**TÓPICOS EN APRENDIZAJE DE MÁQUINAS** <br>\n",
    "**CON LA COLABORACION DE:** Jose S. Ñungo y Nicolas Rugeles \n",
    "<br><br>\n",
    "<br><br>\n",
    "<br><br>\n",
    "\n",
    "**Taller realizado por:** Samuel Suárez\n",
    "\n",
    "<br><br>\n",
    "<br><br>\n",
    "<br><br>"
   ]
  },
  {
   "cell_type": "markdown",
   "metadata": {},
   "source": [
    "## Operaciones básicas\n",
    "Realice alguna operación con los siguientes comandos\n",
    "| Operación | Resultado       |\n",
    "| --------- | --------------- |\n",
    "|    +      | Suma            |\n",
    "|    -      | Resta           |\n",
    "|    *      | Multiplicación  |\n",
    "|    /      | División        |\n",
    "|    %      | Modulo          |\n",
    "|    //     | División entera |\n",
    "|    \\*\\*   | Potencia        |"
   ]
  },
  {
   "cell_type": "code",
   "execution_count": null,
   "metadata": {},
   "outputs": [
    {
     "name": "stdout",
     "output_type": "stream",
     "text": [
      "75\n",
      "357911\n",
      "24\n",
      "24.333333333333332\n",
      "1\n"
     ]
    }
   ],
   "source": [
    "# Definimos las variables\n",
    "x, y, z = 1, 71, 3\n",
    "\n",
    "# Algunas operaciones\n",
    "print(x + y + z)\n",
    "print(x * y ** z)\n",
    "print((x + y) // z)\n",
    "print((2 * x + y) / z)\n",
    "print((2 * x + y) % z)"
   ]
  },
  {
   "cell_type": "markdown",
   "metadata": {},
   "source": [
    "## Variables\n",
    "Para definir variables en Python utilizamos el simbolo de igual (`=`). Como buena práctica de programación, cuando definimos un nombre, utilizamos guión bajo (`_`) para separar las palabras. **Nunca usamos un punto** (Para los que vienen de R). Adicionalmente se debe usar caracteres especiales como tildes o ñ en los nombres de los objetos que definamos.\n",
    "\n",
    "A continuación debe crear 4 variables. \n",
    "- La primera variable se debe llamar `refran` y debe ser un texto alusivo a un refran. Hint: Todos los textos deben estar entre comillas para que Python sepa que son textos.\n",
    "- La segunda variable se debe llamar `x` y debe ser un número entero.\n",
    "- La tercera variable se debe llamar `pi` y debe ser el número pi aproximado\n",
    "- La cuarta variable se debe llamar `condicion` y debe tomar el valor de `True` o `False`"
   ]
  },
  {
   "cell_type": "code",
   "execution_count": null,
   "metadata": {},
   "outputs": [
    {
     "name": "stdout",
     "output_type": "stream",
     "text": [
      "El que madruga, Dios le ayuda\n",
      "100\n",
      "3.1416\n",
      "True\n"
     ]
    }
   ],
   "source": [
    "# Definimos las variables\n",
    "refran = \"El que madruga, Dios le ayuda\"\n",
    "x = 100\n",
    "pi = 3.1416\n",
    "condicion = True\n",
    "\n",
    "# Imprimimos las variables\n",
    "print(refran)\n",
    "print(x)\n",
    "print(pi)\n",
    "print(condicion)"
   ]
  },
  {
   "cell_type": "markdown",
   "metadata": {},
   "source": [
    "Note que cada variable tiene un color diferente. El color está asociado al **tipo** de variable. En mi caso, se ve verde si la variable es un texto (*string*), amarillo si es un número (*integer* o *float*) y rojo si es una variable booleana (*bool*). Para chequear el tipo de una variable siplemente escribimos:\n",
    "> type(nombre_de_la_variable)"
   ]
  },
  {
   "cell_type": "code",
   "execution_count": 33,
   "metadata": {},
   "outputs": [
    {
     "name": "stdout",
     "output_type": "stream",
     "text": [
      "<class 'str'>\n",
      "<class 'int'>\n",
      "<class 'float'>\n",
      "<class 'bool'>\n",
      "<class 'type'>\n"
     ]
    }
   ],
   "source": [
    "# Imprimimos los tipos de las variables\n",
    "print(type(refran))\n",
    "print(type(x))\n",
    "print(type(pi))\n",
    "print(type(condicion))\n",
    "print(type((type)))\n"
   ]
  },
  {
   "cell_type": "markdown",
   "metadata": {},
   "source": [
    "Saber la clase de los objetos con los que trabajamos es muy importante porque dependiendo de esta las operaciones y funciones a implementar van a cambiar su resultado. Por ejemplo, pruebe las siguientes operaciones:\n",
    "```python\n",
    "x + pi\n",
    "pi - 2*condicion\n",
    "not condicion\n",
    "condicion + 0\n",
    "refran + refran\n",
    "refran * 5\n",
    "```"
   ]
  },
  {
   "cell_type": "code",
   "execution_count": 30,
   "metadata": {},
   "outputs": [
    {
     "name": "stdout",
     "output_type": "stream",
     "text": [
      "103.1416\n",
      "1.1416\n",
      "False\n",
      "El que madruga, Dios le ayudaEl que madruga, Dios le ayuda\n",
      "El que madruga, Dios le ayudaEl que madruga, Dios le ayudaEl que madruga, Dios le ayudaEl que madruga, Dios le ayudaEl que madruga, Dios le ayuda\n",
      "1\n",
      "0\n",
      "\n"
     ]
    }
   ],
   "source": [
    "# Operaciones entre variables de distintos tipos\n",
    "print(x + pi)\n",
    "print( pi - 2 * condicion)\n",
    "print( not condicion)\n",
    "print( refran + refran)\n",
    "print( refran * 5)\n",
    "\n",
    "# Algunas otras operaciones\n",
    "print(condicion * condicion)\n",
    "print(condicion * (not condicion))\n",
    "print(refran * (not condicion))"
   ]
  },
  {
   "cell_type": "markdown",
   "metadata": {},
   "source": [
    "## Listas\n",
    "Las listas son una forma de almacenar una secuencia de objetos (iterables). Una lista puede contener objetos de diferentes tipos e incluso puede contener otras listas. La forma más fácil de construir una lista es con dos corchetes (`[]`) y separando los elementos con una coma (`[\"a\", \"b\"]`)"
   ]
  },
  {
   "cell_type": "code",
   "execution_count": 35,
   "metadata": {},
   "outputs": [
    {
     "name": "stdout",
     "output_type": "stream",
     "text": [
      "[4, 'a', 1.618, True, [1, 2, 3]]\n",
      "['esta', 'es', 'otra', 'lista', [4, 'a', 1.618, True, [1, 2, 3]]]\n",
      "<class 'list'>\n"
     ]
    }
   ],
   "source": [
    "# Definimos una lista\n",
    "mi_lista = [4, \"a\", 1.618, True, [1,2,3]]\n",
    "otra_lista = [\"esta\", \"es\", \"otra\", \"lista\", mi_lista]\n",
    "\n",
    "print(mi_lista)\n",
    "print(otra_lista)\n",
    "print(type(mi_lista))\n"
   ]
  },
  {
   "cell_type": "markdown",
   "metadata": {},
   "source": [
    "Python es un método de programación orientado a objetos, es decir que casi todas las variables que definimos tienen ciertos atributos y propiedades. Las listas son un objeto que nos permite hacer diferentes operaciones. Empecemos partiendo nuestras listas en algunos subconjuntos.\n",
    "\n",
    "Cada elemento de una lista se encuentra en una posición. En Python se le conoce como *index* y **la primera posición es el 0**, la segunda es el 1 y así sucesivamente hasta llegar a la última posición la cual sería n - 1.\n",
    "\n",
    "Por ende, si queremos extraer el primer elemento de una lista debemos escribir `nombre_lista[0]`"
   ]
  },
  {
   "cell_type": "code",
   "execution_count": 42,
   "metadata": {},
   "outputs": [
    {
     "name": "stdout",
     "output_type": "stream",
     "text": [
      "1.618\n",
      "2\n",
      "1\n"
     ]
    }
   ],
   "source": [
    "# Extraemos un elemento\n",
    "print(mi_lista[2])\n",
    "\n",
    "# y un elemento dentro de un elemento\n",
    "print(mi_lista[4][1])\n",
    "\n",
    "# y un elemento dentro de un elemento dentro de un elemento\n",
    "print(otra_lista[4][-1][-3])\n",
    "\n",
    "# Note que accedimos al último elemento de mi lista con los corchetes [4] y también con los corchetes [-1]\n",
    "\n"
   ]
  },
  {
   "cell_type": "markdown",
   "metadata": {},
   "source": [
    "Si queremos extraer más de un elemento podemos usar los siguientes trucos. Tenga en cuenta que los corchetes en Python son inclusivos por la izquierda pero exclusivos por la derecha."
   ]
  },
  {
   "cell_type": "code",
   "execution_count": null,
   "metadata": {},
   "outputs": [
    {
     "name": "stdout",
     "output_type": "stream",
     "text": [
      "[4, 'b', 2.718, 'c']\n",
      "[4, 'b', 2.718, 'c']\n",
      "['b', 2.718]\n",
      "['c', True, [1, 2, 3]]\n",
      "[]\n",
      "[4, 'b', 2.718, 'c', True, [1, 2, 3]]\n",
      "['b', 'c']\n",
      "[4, 2.718, True]\n",
      "[[1, 2, 3], True, 'c', 2.718, 'b', 4]\n",
      "[[1, 2, 3], 'c', 'b']\n",
      "[4, 'b', 2.718, 'c', 'c', True, [1, 2, 3]]\n"
     ]
    }
   ],
   "source": [
    "# Extraemos sublistas\n",
    "print(mi_lista[0:4]) # Del 0 al 3 (abierto en la derecha)\n",
    "print(mi_lista[:4]) # Del 0 al 3 (alternativa)\n",
    "print(mi_lista[1:3]) # Del 1 al 2 (cerrado en la izquierda)\n",
    "print(mi_lista[3:]) # Del 3 al último\n",
    "print(mi_lista[1:1]) # Vacio\n",
    "print(mi_lista[:]) # Toda la lista\n",
    "print(mi_lista[1:4:2]) # Indices impares (entre 1 y 4)\n",
    "print(mi_lista[::2]) # Indices pares (en toda la lista)\n",
    "print(mi_lista[::-1]) # La lista al reves\n",
    "print(mi_lista[::-2]) # La lista al reves (solo pares)\n",
    "print()\n",
    "\n",
    "# Re-definimos parte de la lista\n",
    "mi_lista[1:3] = [\"b\", 2.718, \"c\"] # Estamos poniendo 3 elementos donde estaban los elementos 1 y 2. Quedan los antiguos 3 y 4 desplazados a la derecha.\n",
    "print(mi_lista)\n"
   ]
  },
  {
   "cell_type": "markdown",
   "metadata": {},
   "source": [
    "Las operaciones básicas entre listas son muy similares a las operaciones entre strings. \n",
    "\n",
    "OJO: Las listas son estructuras de datos, no vectores."
   ]
  },
  {
   "cell_type": "code",
   "execution_count": 71,
   "metadata": {},
   "outputs": [
    {
     "name": "stdout",
     "output_type": "stream",
     "text": [
      "[1, 2, 3, 4]\n",
      "[1, 2, 'nuevo elemento']\n",
      "[1, 2, 1, 2, 1, 2]\n"
     ]
    }
   ],
   "source": [
    "# Definimos nuevas listas\n",
    "lista_corta1 = [1, 2]\n",
    "lista_corta2 = [3, 4]\n",
    "\n",
    "# Probamos las operaciones que conocemos\n",
    "\n",
    "print(lista_corta1 + lista_corta2) # Suma\n",
    "print(lista_corta1 + [\"nuevo elemento\"]) # Los elementos concatenados deben estar dentro de una lista\n",
    "print(lista_corta1 * 3) # Multiplicacion\n",
    "# print(lista_corta1 * lista_corta2) # Multiplicacion entre listas (saca error)\n",
    "# print(lista_corta1 - lista_corta2) # Resta (saca error)\n",
    "# print(lista_corta1 / lista_corta2) # Division (saca error)\n",
    "# print(lista_corta1 ** 2) # Potencia (saca error)\n",
    "# print(lista_corta1 // 2) # Division entera (saca error)\n",
    "# print(lista_corta1 % 2) # Modulo (saca error)\n",
    "# print(not lista_corta1) # Negacion (saca error)\n",
    "\n",
    "\n"
   ]
  },
  {
   "cell_type": "markdown",
   "metadata": {},
   "source": [
    "## Condiciones\n",
    "Antes de entrar a los *if statements* vamos a estudiar los diferentes tipos de condiciones:\n",
    "| Operador | Resultado\n",
    "| -------- | ---------\n",
    "|   ==     | Igualdad\n",
    "|   !=     | No es igual        \n",
    "|   <      | Menor que\n",
    "|   >      | Mayor que\n",
    "|   <=     | Menor o igual\n",
    "|   >=     | Mayor o igual\n",
    "|   and    | Verifica si dos condiciones se cumplen\n",
    "|   or     | Verifica si se cumple al menos una condición\n",
    "|   not    | Niega una condición\n",
    "|   in     | Verifica si un elemento está en una lista\n",
    "\n",
    "Veamos"
   ]
  },
  {
   "cell_type": "code",
   "execution_count": 98,
   "metadata": {},
   "outputs": [
    {
     "name": "stdout",
     "output_type": "stream",
     "text": [
      "True\n",
      "False\n",
      "True\n",
      "\n",
      "False\n",
      "True\n",
      "True\n",
      "\n",
      "False\n",
      "True\n",
      "True\n",
      "False\n",
      "False\n",
      "True\n",
      "True\n",
      "True\n",
      "\n",
      "True\n",
      "False\n",
      "3\n",
      "\n",
      "True\n",
      "True\n",
      "Very False\n",
      "\n",
      "False\n",
      "True\n",
      "\n",
      "False\n",
      "True\n",
      "True\n"
     ]
    }
   ],
   "source": [
    "# Probamos cada condicional\n",
    "\n",
    "# Igualdad\n",
    "print(True == True)\n",
    "print(True == False)\n",
    "print(False == False)\n",
    "print()\n",
    "\n",
    "# Desigualdad\n",
    "print(True != True)\n",
    "print(2 != \"False\")\n",
    "print(500 != False)\n",
    "print()\n",
    "\n",
    "# Mayor que / menor que\n",
    "print(True > True)\n",
    "print(True > False)\n",
    "print(1 < 100)\n",
    "print(\"100\" < \"1\")  \n",
    "print(\"holaa\" > \"holaa\")\n",
    "\n",
    "# Mayor o igual que / menor o igual que\n",
    "print(True >= True)\n",
    "print(True >= False)\n",
    "print(1 <= 100)\n",
    "print()\n",
    "\n",
    "# and / or / not / in\n",
    "print(True and True)\n",
    "print(True and False)\n",
    "print(4 and 3)\n",
    "print()\n",
    "\n",
    "print(True or True)\n",
    "print(True or False)\n",
    "print(\"Very False\" or \"Truth\")\n",
    "print()\n",
    "\n",
    "print(not (2 != \"x\"))\n",
    "print(not False)\n",
    "print()\n",
    "\n",
    "print( \"1\" in mi_lista)\n",
    "print( \"c\" in mi_lista)\n",
    "print( \"x\" not in mi_lista)\n",
    "\n",
    "\n"
   ]
  },
  {
   "cell_type": "markdown",
   "metadata": {},
   "source": [
    "## Control flows\n",
    "Ejecutar código en caso de que se cumplan ciertas condiciones. Acá tenemos 3 comandos básicos: `if`, `else` y `elif`.\n",
    "\n",
    "La sintaxis para los *control flows* es:\n",
    "\n",
    "```\n",
    "if condicion1:\n",
    "    # Si la condición es True se ejecuta este chunk de código\n",
    "    print(\"condicion1 es verdadera\")\n",
    "elif condicion2:\n",
    "    # Si la condición 1 es False y la condición 2 es True, se ejecuta este chunk_de_codigo\n",
    "    print(\"condicion1 es falsa y la condicion2 es verdadera\")\n",
    "else:\n",
    "    # Si la condición 1 y 2 son falsas, se ejecuta este chunk_de_codigo\n",
    "    print(\"condicion1 y la condicion 2 son falsas\")\n",
    "```\n",
    "\n",
    "Python es un lenguaje minimalista por lo que para hacer *control flows* no usa paréntesis ni corchetes. Después de la condición solo se debe incluir el símbolo de dos puntos (`:`) y el código que se desea correr si la condicion es verdadera debe estar debajo e indentado por 4 espacios (un tab)."
   ]
  },
  {
   "cell_type": "code",
   "execution_count": 102,
   "metadata": {},
   "outputs": [
    {
     "name": "stdout",
     "output_type": "stream",
     "text": [
      "El sujeto es adulto.\n"
     ]
    }
   ],
   "source": [
    "x = \"adulto\"\n",
    "\n",
    "if x == \"adulto\":\n",
    "    print(\"El sujeto es adulto.\") \n",
    "elif x == \"niño\":\n",
    "    print(\"El sujeto es un niño.\")\n",
    "else:\n",
    "     print(\"El sujeto es un adolescente.\")"
   ]
  },
  {
   "cell_type": "markdown",
   "metadata": {},
   "source": [
    "## Loops\n",
    "\n",
    "Existen dos tipos de loops.\n",
    "- *for loops* en donde se itera sobre una lista de elementos.\n",
    "- *while loops* en donde se itera hasta que cierta condición se deje de cumplir"
   ]
  },
  {
   "cell_type": "code",
   "execution_count": 115,
   "metadata": {},
   "outputs": [
    {
     "name": "stdout",
     "output_type": "stream",
     "text": [
      "M\n",
      "1\n",
      "2\n",
      "3\n",
      "\n",
      "L\n",
      "1\n",
      "2\n",
      "3\n",
      "\n",
      "\n",
      "4\n",
      "b\n",
      "\n",
      "4\n",
      "b\n",
      "2.718\n",
      "c\n",
      "c\n"
     ]
    }
   ],
   "source": [
    "# Iteración con string con iteración en rango adentro\n",
    "for i in \"ML\":\n",
    "    print(i)\n",
    "    for j in range(1,4):\n",
    "        print(j)\n",
    "    print()\n",
    "print()\n",
    "\n",
    "# Iteración con lista y break\n",
    "for elemento in mi_lista:\n",
    "    print(elemento)\n",
    "    if elemento == \"b\":\n",
    "        break\n",
    "print()\n",
    "\n",
    "# Iteración con while\n",
    "i = 0\n",
    "elemento = mi_lista[i]\n",
    "\n",
    "while elemento != True:\n",
    "    print(elemento)\n",
    "    i += 1\n",
    "    elemento = mi_lista[i]\n",
    "\n"
   ]
  },
  {
   "cell_type": "markdown",
   "metadata": {},
   "source": [
    "## Funciones\n",
    "La sintaxis sería:\n",
    "```python\n",
    "def nombre_funcion(parametro1, parametro2, ...):\n",
    "    \"\"\"\n",
    "    Descripción de lo que hace la función\n",
    "\n",
    "    Parameters:\n",
    "        parametro1 (tipo_parametro1): Descripción de qué es el input y qué valores puede tomar. \n",
    "        parametro2 (tipo_parametro2): Descripción de qué es el input y qué valores puede tomar. \n",
    "\n",
    "    Returns:\n",
    "        output1 (clase_output): Descripción de lo que es el output y qué valores puede tomar.\n",
    "    \"\"\"\n",
    "\n",
    "    # Bloque de código\n",
    "    \n",
    "    return resultado\n",
    "```"
   ]
  },
  {
   "cell_type": "code",
   "execution_count": null,
   "metadata": {},
   "outputs": [
    {
     "name": "stdout",
     "output_type": "stream",
     "text": [
      "Eres un menor de edad en Colombia.\n",
      "Você é um adulto no Brasil.\n",
      "País no reconocido.\n"
     ]
    }
   ],
   "source": [
    "# Creamos una función\n",
    "def consejo_por_edad_y_pais(edad, pais):\n",
    "    \"\"\" Función que da un consejo basado en la edad y el país de una persona.\n",
    "\n",
    "    Parámetros:\n",
    "    edad (int): La edad de la persona. Pertenece al intervalo [0, 120].\n",
    "    pais (str): El país de la persona. Puede ser \"Colombia\" o \"Brazil\".\n",
    "    \n",
    "    \"\"\"\n",
    "\n",
    "    if pais == \"Colombia\":\n",
    "        if edad < 18:\n",
    "            return \"Eres un menor de edad en Colombia.\"\n",
    "        else:\n",
    "            return \"Eres un adulto en Colombia.\"\n",
    "    elif pais == \"Brazil\":\n",
    "        if edad < 18:\n",
    "            return \"Eres um menor de idade no Brasil.\" # Espero que la traducción este bien\n",
    "        else:\n",
    "            return \"Você é um adulto no Brasil.\"\n",
    "    else:\n",
    "        return \"País no reconocido.\"\n",
    "\n",
    "# Probamos la función\n",
    "print(consejo_por_edad_y_pais(17, \"Colombia\"))\n",
    "print(consejo_por_edad_y_pais(20, \"Brazil\"))\n",
    "print(consejo_por_edad_y_pais(25, \"Argentina\"))"
   ]
  },
  {
   "cell_type": "markdown",
   "metadata": {},
   "source": [
    "### Diccionarios\n",
    "\n",
    "Los diccionarios son usados para hacer variables que mapean e indexan elementos no organizados. En un formato de llaves y valores.\n",
    "\n",
    "```python\n",
    "diccionario = {\n",
    "     key1: value1,\n",
    "     key2: value2,\n",
    "        .\n",
    "        .\n",
    "        .\n",
    "    }\n",
    "```\n",
    "1. Defina \"a\" como un entero y \"b\" como un caracter.\n",
    "2. Defina un dictionario llamado dict_1 donde incluya un número (float), \"a\", \"b\" y lista_1\n",
    "3. Accedamos a los elementos"
   ]
  },
  {
   "cell_type": "code",
   "execution_count": 120,
   "metadata": {},
   "outputs": [
    {
     "name": "stdout",
     "output_type": "stream",
     "text": [
      "123\n",
      "99\n",
      "S\n",
      "[99, 'S', 'c']\n",
      "c\n"
     ]
    }
   ],
   "source": [
    "# Definimos a,b\n",
    "a,b = 99, \"S\"\n",
    "lista_1 = [a,b,\"c\"]\n",
    "\n",
    "dict_1 = {\n",
    "   \"llave1\": 123,\n",
    "   \"llave2\":a,\n",
    "   \"llave3\":b,\n",
    "   \"llave4\": lista_1\n",
    "}\n",
    "\n",
    "# Accedemos a cada elemento\n",
    "print(dict_1[\"llave1\"])\n",
    "print(dict_1[\"llave2\"])\n",
    "print(dict_1[\"llave3\"])\n",
    "print(dict_1[\"llave4\"])\n",
    "print(dict_1[\"llave4\"][2])"
   ]
  }
 ],
 "metadata": {
  "kernelspec": {
   "display_name": "Python 3",
   "language": "python",
   "name": "python3"
  },
  "language_info": {
   "codemirror_mode": {
    "name": "ipython",
    "version": 3
   },
   "file_extension": ".py",
   "mimetype": "text/x-python",
   "name": "python",
   "nbconvert_exporter": "python",
   "pygments_lexer": "ipython3",
   "version": "3.9.6"
  },
  "orig_nbformat": 4
 },
 "nbformat": 4,
 "nbformat_minor": 2
}
